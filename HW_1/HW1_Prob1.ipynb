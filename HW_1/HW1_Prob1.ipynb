{
 "cells": [
  {
   "cell_type": "markdown",
   "metadata": {},
   "source": [
    "# USING THE F-STATISTIC"
   ]
  },
  {
   "cell_type": "code",
   "execution_count": 1,
   "metadata": {},
   "outputs": [],
   "source": [
    "import pandas as pd\n",
    "import numpy as np\n",
    "from sklearn import feature_selection\n",
    "from sklearn.linear_model import LinearRegression"
   ]
  },
  {
   "cell_type": "code",
   "execution_count": 2,
   "metadata": {},
   "outputs": [],
   "source": [
    "df = pd.read_csv('/Users/rodney/Documents/Jupyter/HW_IE_691/HW_1/Electric_Power_Data.csv')\n",
    "#print(df)"
   ]
  },
  {
   "cell_type": "code",
   "execution_count": 3,
   "metadata": {},
   "outputs": [
    {
     "name": "stdout",
     "output_type": "stream",
     "text": [
      "    x1  x2  x3   x4\n",
      "0   25  24  91  100\n",
      "1   31  21  90   95\n",
      "2   45  24  88  110\n",
      "3   60  25  87   88\n",
      "4   65  25  91   94\n",
      "5   72  26  94   99\n",
      "6   80  25  87   97\n",
      "7   84  25  86   96\n",
      "8   75  24  88  110\n",
      "9   60  25  91  105\n",
      "10  50  25  90  100\n",
      "11  38  23  89   98\n"
     ]
    },
    {
     "data": {
      "text/plain": [
       "0     240\n",
       "1     236\n",
       "2     290\n",
       "3     274\n",
       "4     301\n",
       "5     316\n",
       "6     300\n",
       "7     296\n",
       "8     267\n",
       "9     276\n",
       "10    288\n",
       "11    261\n",
       "Name: y, dtype: int64"
      ]
     },
     "execution_count": 3,
     "metadata": {},
     "output_type": "execute_result"
    }
   ],
   "source": [
    "columns = df[['x1', 'x2', 'x3', 'x4']]\n",
    "print (columns)\n",
    "df['y']"
   ]
  },
  {
   "cell_type": "code",
   "execution_count": 4,
   "metadata": {},
   "outputs": [],
   "source": [
    "model = feature_selection.SelectKBest(score_func=feature_selection.f_regression, k=4)\n",
    "results = model.fit(columns, df['y'])"
   ]
  },
  {
   "cell_type": "code",
   "execution_count": 5,
   "metadata": {},
   "outputs": [
    {
     "name": "stdout",
     "output_type": "stream",
     "text": [
      "[1.29737317e+01 1.81356853e+01 2.39178819e-02 8.45968053e-04]\n"
     ]
    }
   ],
   "source": [
    "print (results.scores_)"
   ]
  },
  {
   "cell_type": "code",
   "execution_count": 6,
   "metadata": {},
   "outputs": [
    {
     "name": "stdout",
     "output_type": "stream",
     "text": [
      "[0.00483259 0.00166671 0.8801709  0.97736866]\n"
     ]
    }
   ],
   "source": [
    "print (results.pvalues_)"
   ]
  },
  {
   "cell_type": "markdown",
   "metadata": {},
   "source": [
    "### The desire is for lower p-values; the lower the p-value, the more significant the feature.\n",
    "### Based on the p-values, the feature to drop is x4 (highest p-value).\n",
    "### Based on the p-values, the best feature to keep is x2 (lowest p-value).\n",
    "### Feature ranking based on p-value from most desired to keep - most desire to drop: x2, x1, x3, x4."
   ]
  },
  {
   "cell_type": "code",
   "execution_count": null,
   "metadata": {},
   "outputs": [],
   "source": []
  },
  {
   "cell_type": "markdown",
   "metadata": {},
   "source": [
    "# USING THE T-STATISTIC"
   ]
  },
  {
   "cell_type": "code",
   "execution_count": 7,
   "metadata": {},
   "outputs": [
    {
     "name": "stdout",
     "output_type": "stream",
     "text": [
      "    x1  x2  x3   x4\n",
      "0   25  24  91  100\n",
      "1   31  21  90   95\n",
      "2   45  24  88  110\n",
      "3   60  25  87   88\n",
      "4   65  25  91   94\n",
      "5   72  26  94   99\n",
      "6   80  25  87   97\n",
      "7   84  25  86   96\n",
      "8   75  24  88  110\n",
      "9   60  25  91  105\n",
      "10  50  25  90  100\n",
      "11  38  23  89   98\n",
      "0     240\n",
      "1     236\n",
      "2     290\n",
      "3     274\n",
      "4     301\n",
      "5     316\n",
      "6     300\n",
      "7     296\n",
      "8     267\n",
      "9     276\n",
      "10    288\n",
      "11    261\n",
      "Name: y, dtype: int64\n"
     ]
    },
    {
     "name": "stderr",
     "output_type": "stream",
     "text": [
      "/anaconda3/lib/python3.6/site-packages/statsmodels/compat/pandas.py:56: FutureWarning: The pandas.core.datetools module is deprecated and will be removed in a future version. Please use the pandas.tseries module instead.\n",
      "  from pandas.core import datetools\n"
     ]
    }
   ],
   "source": [
    "import pandas as pd\n",
    "import numpy as np\n",
    "from sklearn import datasets, linear_model\n",
    "from sklearn.linear_model import LinearRegression\n",
    "import statsmodels.api as sm\n",
    "from scipy import stats\n",
    "\n",
    "diabetes = datasets.load_diabetes()\n",
    "X = df[['x1', 'x2', 'x3', 'x4']]\n",
    "y = df['y']\n",
    "\n",
    "print (X)\n",
    "print (y)"
   ]
  },
  {
   "cell_type": "code",
   "execution_count": 8,
   "metadata": {},
   "outputs": [
    {
     "name": "stdout",
     "output_type": "stream",
     "text": [
      "   Coefficients  Std Errors  t values  p-values\n",
      "0     -102.7132     207.859    -0.494     0.631\n",
      "1        0.6054       0.369     1.641     0.129\n",
      "2        8.9236       5.301     1.684     0.120\n",
      "3        1.4375       2.392     0.601     0.560\n",
      "4        0.0136       0.734     0.019     0.986\n"
     ]
    }
   ],
   "source": [
    "lm = LinearRegression()\n",
    "lm.fit(X,y)\n",
    "params = np.append(lm.intercept_,lm.coef_)\n",
    "predictions = lm.predict(X)\n",
    "\n",
    "newX = np.append(np.ones((len(X),1)), X, axis=1)\n",
    "MSE = (sum((y-predictions)**2))/(len(newX)-len(newX[0]))\n",
    "\n",
    "var_b = MSE*(np.linalg.inv(np.dot(newX.T,newX)).diagonal())\n",
    "sd_b = np.sqrt(var_b)\n",
    "ts_b = params/ sd_b\n",
    "\n",
    "p_values =[2*(1-stats.t.cdf(np.abs(i),(len(newX)-1))) for i in ts_b]\n",
    "\n",
    "sd_b = np.round(sd_b,3)\n",
    "ts_b = np.round(ts_b,3)\n",
    "p_values = np.round(p_values,3)\n",
    "params = np.round(params,4)\n",
    "\n",
    "myDF3 = pd.DataFrame()\n",
    "myDF3[\"Coefficients\"],myDF3[\"Std Errors\"],myDF3[\"t values\"],myDF3[\"p-values\"] = [params,sd_b,ts_b,p_values]\n",
    "print(myDF3)"
   ]
  },
  {
   "cell_type": "markdown",
   "metadata": {},
   "source": [
    "### The desire is for lower p-values; the lower the p-value, the more significant the feature.\n",
    "### Based on the p-values, the feature to drop is x4 (highest p-value).\n",
    "### Based on the p-values, the best feature to keep is x2 (lowest p-value).\n",
    "### Feature ranking based on p-value from most desired to keep - most desire to drop: x2, x1, x3, x4"
   ]
  }
 ],
 "metadata": {
  "kernelspec": {
   "display_name": "Python 3",
   "language": "python",
   "name": "python3"
  },
  "language_info": {
   "codemirror_mode": {
    "name": "ipython",
    "version": 3
   },
   "file_extension": ".py",
   "mimetype": "text/x-python",
   "name": "python",
   "nbconvert_exporter": "python",
   "pygments_lexer": "ipython3",
   "version": "3.6.4"
  }
 },
 "nbformat": 4,
 "nbformat_minor": 2
}
