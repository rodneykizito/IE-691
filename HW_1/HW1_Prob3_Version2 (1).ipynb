{
 "cells": [
  {
   "cell_type": "code",
   "execution_count": 1,
   "metadata": {
    "scrolled": true
   },
   "outputs": [
    {
     "name": "stderr",
     "output_type": "stream",
     "text": [
      "/anaconda3/lib/python3.6/site-packages/statsmodels/compat/pandas.py:56: FutureWarning: The pandas.core.datetools module is deprecated and will be removed in a future version. Please use the pandas.tseries module instead.\n",
      "  from pandas.core import datetools\n"
     ]
    }
   ],
   "source": [
    "from sklearn.datasets import load_boston\n",
    "import pandas as pd\n",
    "import numpy as np\n",
    "import statsmodels.api as sm"
   ]
  },
  {
   "cell_type": "code",
   "execution_count": 2,
   "metadata": {},
   "outputs": [],
   "source": [
    "df = pd.read_csv('/Users/rodney/Documents/Jupyter/HW_IE_691/HW_1/PCD_ALL.csv')\n",
    "# print(df)"
   ]
  },
  {
   "cell_type": "code",
   "execution_count": 3,
   "metadata": {},
   "outputs": [],
   "source": [
    "df = df.drop(columns=['train'])\n",
    "# print(df)"
   ]
  },
  {
   "cell_type": "code",
   "execution_count": 4,
   "metadata": {},
   "outputs": [
    {
     "name": "stdout",
     "output_type": "stream",
     "text": [
      "      lcavol   lweight  age      lbph  svi       lcp  gleason  pgg45\n",
      "0  -0.579818  2.769459   50 -1.386294    0 -1.386294        6      0\n",
      "1  -0.994252  3.319626   58 -1.386294    0 -1.386294        6      0\n",
      "2  -0.510826  2.691243   74 -1.386294    0 -1.386294        7     20\n",
      "3  -1.203973  3.282789   58 -1.386294    0 -1.386294        6      0\n",
      "4   0.751416  3.432373   62 -1.386294    0 -1.386294        6      0\n",
      "5  -1.049822  3.228826   50 -1.386294    0 -1.386294        6      0\n",
      "6   0.737164  3.473518   64  0.615186    0 -1.386294        6      0\n",
      "7   0.693147  3.539509   58  1.536867    0 -1.386294        6      0\n",
      "8  -0.776529  3.539509   47 -1.386294    0 -1.386294        6      0\n",
      "9   0.223144  3.244544   63 -1.386294    0 -1.386294        6      0\n",
      "10  0.254642  3.604138   65 -1.386294    0 -1.386294        6      0\n",
      "11 -1.347074  3.598681   63  1.266948    0 -1.386294        6      0\n",
      "12  1.613430  3.022861   63 -1.386294    0 -0.597837        7     30\n",
      "13  1.477049  2.998229   67 -1.386294    0 -1.386294        7      5\n",
      "14  1.205971  3.442019   57 -1.386294    0 -0.430783        7      5\n",
      "15  1.541159  3.061052   66 -1.386294    0 -1.386294        6      0\n",
      "16 -0.415515  3.516013   70  1.244155    0 -0.597837        7     30\n",
      "17  2.288486  3.649359   66 -1.386294    0  0.371564        6      0\n",
      "18 -0.562119  3.267666   41 -1.386294    0 -1.386294        6      0\n",
      "19  0.182322  3.825375   70  1.658228    0 -1.386294        6      0\n",
      "20  1.147402  3.419365   59 -1.386294    0 -1.386294        6      0\n",
      "21  2.059239  3.501043   60  1.474763    0  1.348073        7     20\n",
      "22 -0.544727  3.375880   59 -0.798508    0 -1.386294        6      0\n",
      "23  1.781709  3.451574   63  0.438255    0  1.178655        7     60\n",
      "24  0.385262  3.667400   69  1.599388    0 -1.386294        6      0\n",
      "25  1.446919  3.124565   68  0.300105    0 -1.386294        6      0\n",
      "26  0.512824  3.719651   65 -1.386294    0 -0.798508        7     70\n",
      "27 -0.400478  3.865979   67  1.816452    0 -1.386294        7     20\n",
      "28  1.040277  3.128951   67  0.223144    0  0.048790        7     80\n",
      "29  2.409644  3.375880   65 -1.386294    0  1.619388        6      0\n",
      "..       ...       ...  ...       ...  ...       ...      ...    ...\n",
      "67  2.198335  4.050915   72  2.307573    0 -0.430783        7     10\n",
      "68 -0.446287  4.408547   69 -1.386294    0 -1.386294        6      0\n",
      "69  1.193922  4.780383   72  2.326302    0 -0.798508        7      5\n",
      "70  1.864080  3.593194   60 -1.386294    1  1.321756        7     60\n",
      "71  1.160021  3.341093   77  1.749200    0 -1.386294        7     25\n",
      "72  1.214913  3.825375   69 -1.386294    1  0.223144        7     20\n",
      "73  1.838961  3.236716   60  0.438255    1  1.178655        9     90\n",
      "74  2.999226  3.849083   69 -1.386294    1  1.909542        7     20\n",
      "75  3.141130  3.263849   68 -0.051293    1  2.420368        7     50\n",
      "76  2.010895  4.433789   72  2.122262    0  0.500775        7     60\n",
      "77  2.537657  4.354784   78  2.326302    0 -1.386294        7     10\n",
      "78  2.648300  3.582129   69 -1.386294    1  2.583998        7     70\n",
      "79  2.779440  3.823192   63 -1.386294    0  0.371564        7     50\n",
      "80  1.467874  3.070376   66  0.559616    0  0.223144        7     40\n",
      "81  2.513656  3.473518   57  0.438255    0  2.327278        7     60\n",
      "82  2.613007  3.888754   77 -0.527633    1  0.559616        7     30\n",
      "83  2.677591  3.838376   65  1.115142    0  1.749200        9     70\n",
      "84  1.562346  3.709907   60  1.695616    0  0.810930        7     30\n",
      "85  3.302849  3.518980   64 -1.386294    1  2.327278        7     60\n",
      "86  2.024193  3.731699   58  1.638997    0 -1.386294        6      0\n",
      "87  1.731656  3.369018   62 -1.386294    1  0.300105        7     30\n",
      "88  2.807594  4.718052   65 -1.386294    1  2.463853        7     60\n",
      "89  1.562346  3.695110   76  0.936093    1  0.810930        7     75\n",
      "90  3.246491  4.101817   68 -1.386294    0 -1.386294        6      0\n",
      "91  2.532903  3.677566   61  1.348073    1 -1.386294        7     15\n",
      "92  2.830268  3.876396   68 -1.386294    1  1.321756        7     60\n",
      "93  3.821004  3.896909   44 -1.386294    1  2.169054        7     40\n",
      "94  2.907447  3.396185   52 -1.386294    1  2.463853        7     10\n",
      "95  2.882564  3.773910   68  1.558145    1  1.558145        7     80\n",
      "96  3.471966  3.974998   68  0.438255    1  2.904165        7     20\n",
      "\n",
      "[97 rows x 8 columns]\n",
      "0    -0.430783\n",
      "1    -0.162519\n",
      "2    -0.162519\n",
      "3    -0.162519\n",
      "4     0.371564\n",
      "5     0.765468\n",
      "6     0.765468\n",
      "7     0.854415\n",
      "8     1.047319\n",
      "9     1.047319\n",
      "10    1.266948\n",
      "11    1.266948\n",
      "12    1.266948\n",
      "13    1.348073\n",
      "14    1.398717\n",
      "15    1.446919\n",
      "16    1.470176\n",
      "17    1.492904\n",
      "18    1.558145\n",
      "19    1.599388\n",
      "20    1.638997\n",
      "21    1.658228\n",
      "22    1.695616\n",
      "23    1.713798\n",
      "24    1.731656\n",
      "25    1.766442\n",
      "26    1.800058\n",
      "27    1.816452\n",
      "28    1.848455\n",
      "29    1.894617\n",
      "        ...   \n",
      "67    2.962692\n",
      "68    2.962692\n",
      "69    2.972975\n",
      "70    3.013081\n",
      "71    3.037354\n",
      "72    3.056357\n",
      "73    3.075006\n",
      "74    3.275256\n",
      "75    3.337547\n",
      "76    3.392829\n",
      "77    3.435599\n",
      "78    3.457893\n",
      "79    3.513037\n",
      "80    3.516013\n",
      "81    3.530763\n",
      "82    3.565298\n",
      "83    3.570940\n",
      "84    3.587677\n",
      "85    3.630986\n",
      "86    3.680091\n",
      "87    3.712352\n",
      "88    3.984344\n",
      "89    3.993603\n",
      "90    4.029806\n",
      "91    4.129551\n",
      "92    4.385147\n",
      "93    4.684443\n",
      "94    5.143124\n",
      "95    5.477509\n",
      "96    5.582932\n",
      "Name: lpsa, Length: 97, dtype: float64\n"
     ]
    }
   ],
   "source": [
    "X = df[['lcavol', 'lweight', 'age', 'lbph', 'svi', 'lcp', 'gleason', 'pgg45']]\n",
    "y = df['lpsa']\n",
    "\n",
    "print (X)\n",
    "print (y)"
   ]
  },
  {
   "cell_type": "markdown",
   "metadata": {},
   "source": [
    "# NOTE:\n",
    "## The following performs a forward-backward feature selection based on p-value of each predictor/feature. The alpha is set to 0.05 for both the forward and the backward piecewise selection methods.\n",
    "## The code returns a list of selected features."
   ]
  },
  {
   "cell_type": "code",
   "execution_count": 5,
   "metadata": {},
   "outputs": [
    {
     "name": "stdout",
     "output_type": "stream",
     "text": [
      "Add  lcavol                         with p-value 1.11861e-17\n",
      "Add  lweight                        with p-value 0.000493799\n",
      "Add  svi                            with p-value 0.00179762\n",
      "resulting features:\n",
      "['lcavol', 'lweight', 'svi']\n"
     ]
    },
    {
     "name": "stderr",
     "output_type": "stream",
     "text": [
      "/anaconda3/lib/python3.6/site-packages/ipykernel_launcher.py:18: FutureWarning: 'argmin' is deprecated. Use 'idxmin' instead. The behavior of 'argmin' will be corrected to return the positional minimum in the future. Use 'series.values.argmin' to get the position of the minimum now.\n"
     ]
    }
   ],
   "source": [
    "def stepwise_selection(X, y, \n",
    "                       initial_list=[],         # list of features to start with (column names of X)\n",
    "                       threshold_in=0.05,       # include a feature if its p-value < threshold_in\n",
    "                       threshold_out=0.05,      # exclude a feature if its p-value > threshold_out\n",
    "                       verbose=True):           # whether to print the sequence of inclusions and exclusions\n",
    "   \n",
    "    included = list(initial_list)\n",
    "    while True:\n",
    "        changed=False\n",
    "        # forward step\n",
    "        excluded = list(set(X.columns)-set(included))\n",
    "        new_pval = pd.Series(index=excluded)\n",
    "        for new_column in excluded:\n",
    "            model = sm.OLS(y, sm.add_constant(pd.DataFrame(X[included+[new_column]]))).fit()\n",
    "            new_pval[new_column] = model.pvalues[new_column]\n",
    "        best_pval = new_pval.min()\n",
    "        if best_pval < threshold_in:\n",
    "            best_feature = new_pval.argmin()\n",
    "            included.append(best_feature)\n",
    "            changed=True\n",
    "            if verbose:\n",
    "                print('Add  {:30} with p-value {:.6}'.format(best_feature, best_pval))\n",
    "\n",
    "        # backward step\n",
    "        model = sm.OLS(y, sm.add_constant(pd.DataFrame(X[included]))).fit()\n",
    "        # use all coefs except intercept\n",
    "        pvalues = model.pvalues.iloc[1:]\n",
    "        worst_pval = pvalues.max() # null if pvalues is empty\n",
    "        if worst_pval > threshold_out:\n",
    "            changed=True\n",
    "            worst_feature = pvalues.argmax()\n",
    "            included.remove(worst_feature)\n",
    "            if verbose:\n",
    "                print('Drop {:30} with p-value {:.6}'.format(worst_feature, worst_pval))\n",
    "        if not changed:\n",
    "            break\n",
    "    return included\n",
    "\n",
    "result = stepwise_selection(X, y)\n",
    "\n",
    "print('resulting features:')\n",
    "print(result)"
   ]
  },
  {
   "cell_type": "markdown",
   "metadata": {},
   "source": [
    "# INTERPRETATION OF RESULTS:\n",
    "### The results show that most significant predictors/features to the model are 'lcavol', 'lweight', and 'svi'. These are chosen based off their p-values. \n",
    "### For the forward stepwise, predictors/feautres whose p-values were LESS than the alpha of 0.05 were ADDED to the subset.\n",
    "### For the backward stepwise, predictors/features wholse p-values were GREATER than the alpha of 0.05 were REMOVED."
   ]
  }
 ],
 "metadata": {
  "kernelspec": {
   "display_name": "Python 3",
   "language": "python",
   "name": "python3"
  },
  "language_info": {
   "codemirror_mode": {
    "name": "ipython",
    "version": 3
   },
   "file_extension": ".py",
   "mimetype": "text/x-python",
   "name": "python",
   "nbconvert_exporter": "python",
   "pygments_lexer": "ipython3",
   "version": "3.6.4"
  }
 },
 "nbformat": 4,
 "nbformat_minor": 2
}
